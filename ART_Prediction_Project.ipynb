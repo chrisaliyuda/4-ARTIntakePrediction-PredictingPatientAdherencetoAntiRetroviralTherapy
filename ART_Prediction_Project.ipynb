{
 "cells": [
  {
   "cell_type": "markdown",
   "metadata": {},
   "source": [
    "# Import Packages and Dataset \n",
    "# Data Assessment and Cleaning"
   ]
  },
  {
   "cell_type": "markdown",
   "metadata": {},
   "source": [
    "# Problem Statement\n",
    "Build a predictive model to understand and predict patients adherance to treatment. This can help healthcare industries understand patients reactions to Anti-retro viral therapy (ART), and also to understand factors that will probably affect patient response to ART treatment."
   ]
  },
  {
   "cell_type": "code",
   "execution_count": 116,
   "metadata": {},
   "outputs": [],
   "source": [
    "import pandas as pd\n",
    "import numpy as np\n",
    "import re\n",
    "from datetime import datetime\n",
    "import seaborn as sns\n",
    "import matplotlib.pyplot as plt \n",
    "from sklearn.feature_selection import mutual_info_regression\n",
    "from sklearn.preprocessing import LabelEncoder\n",
    "from sklearn.model_selection import train_test_split\n",
    "import lightgbm as lgb\n",
    "from sklearn.metrics import roc_auc_score\n",
    "import pickle"
   ]
  },
  {
   "cell_type": "code",
   "execution_count": 2,
   "metadata": {},
   "outputs": [
    {
     "name": "stdout",
     "output_type": "stream",
     "text": [
      "Current ART Status\n",
      "Active             4781\n",
      "LTFU                  9\n",
      "Transferred out       3\n",
      "Name: count, dtype: int64\n",
      "Patient Unique ID                           0\n",
      "ID                                          2\n",
      "Patient Hospital No                         7\n",
      "Sex                                         0\n",
      "Age at Start of ART(Years)                  0\n",
      "Age at Start of ART(Months)              4793\n",
      "ART Start Date                              0\n",
      "Last Pickup Date                            0\n",
      "DaysOfARVRefil                              0\n",
      "Regimen Line at ART Start                   0\n",
      "Regimen at ART Start                        0\n",
      "Current Regimen Line                        0\n",
      "Current ART Regimen                         0\n",
      "Pregnancy Status                         4322\n",
      "Current Viral Load (c/ml)                3643\n",
      "Date of Current Viral Load (dd/mm/yy)    3643\n",
      "Viral Load Indication                    3010\n",
      "Current ART Status                          0\n",
      "CurrentAge(Years)                           0\n",
      "CurrentAge(Months)                       4793\n",
      "DateOfBirth                                 0\n",
      "dtype: int64\n",
      "(4793, 21)\n"
     ]
    }
   ],
   "source": [
    "# Read data file and explore\n",
    "data = pd.read_excel(r'C:\\Users\\hp\\Downloads\\Copy of HIVAIDS Dataset.xlsx')\n",
    "print(data['Current ART Status'].value_counts())\n",
    "print(data.isnull().sum())\n",
    "print(data.shape)"
   ]
  },
  {
   "cell_type": "code",
   "execution_count": 3,
   "metadata": {},
   "outputs": [],
   "source": [
    "# Calculating percentage null values to determine columns to drop\n",
    "columns = []\n",
    "for cols in list(data.columns):\n",
    "    null_count = data[cols].isnull().sum()\n",
    "    per_null = int(round((null_count/len(data[cols])) * 100, 0))\n",
    "    columns.append(f'{cols}:{per_null}%')\n",
    "\n",
    "df = pd.DataFrame(columns, columns=['Column_Name : Null_Percentage']) # create dataframe for percentage null values\n",
    "df[['columns', 'Null Percentage']] = df['Column_Name : Null_Percentage'].str.split(':', expand = True) # split into different columns "
   ]
  },
  {
   "cell_type": "code",
   "execution_count": 4,
   "metadata": {},
   "outputs": [],
   "source": [
    "df = df.drop('Column_Name : Null_Percentage', axis = 1)"
   ]
  },
  {
   "cell_type": "code",
   "execution_count": 5,
   "metadata": {},
   "outputs": [],
   "source": [
    "df['Null Percentage'] = df['Null Percentage'].str.replace('%', '')"
   ]
  },
  {
   "cell_type": "code",
   "execution_count": 6,
   "metadata": {},
   "outputs": [],
   "source": [
    "df['Null Percentage'] = df['Null Percentage'].astype('int64')"
   ]
  },
  {
   "cell_type": "code",
   "execution_count": 7,
   "metadata": {},
   "outputs": [],
   "source": [
    "df1 = df[df['Null Percentage'] > 50]"
   ]
  },
  {
   "cell_type": "code",
   "execution_count": 8,
   "metadata": {},
   "outputs": [],
   "source": [
    "columns_to_drop = list(df1['columns'].values)\n",
    "\n",
    "data.drop(columns_to_drop, axis = 1, inplace = True) # drop columns having greater than 50% null values "
   ]
  },
  {
   "cell_type": "code",
   "execution_count": 9,
   "metadata": {},
   "outputs": [],
   "source": [
    "data.drop(data.columns[0], axis = 1, inplace = True) # drop irrelevant Patient Unique ID column after anonymization"
   ]
  },
  {
   "cell_type": "code",
   "execution_count": 10,
   "metadata": {},
   "outputs": [
    {
     "data": {
      "text/plain": [
       "ID                            object\n",
       "Patient Hospital No           object\n",
       "Sex                           object\n",
       "Age at Start of ART(Years)     int64\n",
       "ART Start Date                object\n",
       "Last Pickup Date              object\n",
       "DaysOfARVRefil                 int64\n",
       "Regimen Line at ART Start     object\n",
       "Regimen at ART Start          object\n",
       "Current Regimen Line          object\n",
       "Current ART Regimen           object\n",
       "Current ART Status            object\n",
       "CurrentAge(Years)              int64\n",
       "DateOfBirth                   object\n",
       "dtype: object"
      ]
     },
     "execution_count": 10,
     "metadata": {},
     "output_type": "execute_result"
    }
   ],
   "source": [
    "# Check for datatypes\n",
    "data.dtypes"
   ]
  },
  {
   "cell_type": "code",
   "execution_count": 11,
   "metadata": {},
   "outputs": [],
   "source": [
    "columns =  ['ART Start Date', 'Last Pickup Date', 'DateOfBirth'] # convert these columns to datetime datatype\n",
    "for col in columns:\n",
    "    data[col] = pd.to_datetime(data[col], errors='coerce')\n",
    " "
   ]
  },
  {
   "cell_type": "code",
   "execution_count": 12,
   "metadata": {},
   "outputs": [
    {
     "data": {
      "text/plain": [
       "ID                                    object\n",
       "Patient Hospital No                   object\n",
       "Sex                                   object\n",
       "Age at Start of ART(Years)             int64\n",
       "ART Start Date                datetime64[ns]\n",
       "Last Pickup Date              datetime64[ns]\n",
       "DaysOfARVRefil                         int64\n",
       "Regimen Line at ART Start             object\n",
       "Regimen at ART Start                  object\n",
       "Current Regimen Line                  object\n",
       "Current ART Regimen                   object\n",
       "Current ART Status                    object\n",
       "CurrentAge(Years)                      int64\n",
       "DateOfBirth                   datetime64[ns]\n",
       "dtype: object"
      ]
     },
     "execution_count": 12,
     "metadata": {},
     "output_type": "execute_result"
    }
   ],
   "source": [
    "data.dtypes"
   ]
  },
  {
   "cell_type": "markdown",
   "metadata": {},
   "source": [
    "# Exploratory Data Analysis"
   ]
  },
  {
   "cell_type": "code",
   "execution_count": 13,
   "metadata": {},
   "outputs": [],
   "source": [
    "data = data[['ID', 'Patient Hospital No', 'Sex', 'Age at Start of ART(Years)',\n",
    "       'ART Start Date', 'Last Pickup Date', 'DaysOfARVRefil',\n",
    "       'Regimen Line at ART Start', 'Regimen at ART Start',\n",
    "       'Current Regimen Line', 'Current ART Regimen', \n",
    "       'CurrentAge(Years)', 'DateOfBirth','Current ART Status']]"
   ]
  },
  {
   "cell_type": "code",
   "execution_count": 14,
   "metadata": {},
   "outputs": [
    {
     "name": "stdout",
     "output_type": "stream",
     "text": [
      "Sex\n",
      "M    4316\n",
      "F     477\n",
      "Name: count, dtype: int64\n"
     ]
    },
    {
     "data": {
      "text/plain": [
       "<Axes: xlabel='Current ART Status'>"
      ]
     },
     "execution_count": 14,
     "metadata": {},
     "output_type": "execute_result"
    },
    {
     "data": {
      "image/png": "[encoded data removed]",
      "text/plain": [
       "<Figure size 640x480 with 1 Axes>"
      ]
     },
     "metadata": {},
     "output_type": "display_data"
    }
   ],
   "source": [
    "# Understanding distribution of current ART status by male and female\n",
    "print(data['Sex'].value_counts())\n",
    "data.groupby(['Current ART Status', 'Sex']).size().unstack().plot(kind = 'bar')"
   ]
  },
  {
   "cell_type": "code",
   "execution_count": 60,
   "metadata": {},
   "outputs": [],
   "source": [
    "# Understanding Age bin of people undergoing ART \n",
    "bins = [9, 10, data['CurrentAge(Years)'].max()]\n",
    "labels = ['Child', 'Adult']\n",
    "data['Age Group'] = pd.cut(data['CurrentAge(Years)'], bins = bins, labels = labels) # group age data"
   ]
  },
  {
   "cell_type": "code",
   "execution_count": 16,
   "metadata": {},
   "outputs": [
    {
     "data": {
      "text/plain": [
       "<Axes: ylabel='Frequency'>"
      ]
     },
     "execution_count": 16,
     "metadata": {},
     "output_type": "execute_result"
    },
    {
     "data": {
      "image/png": "[encoded data removed]",
      "text/plain": [
       "<Figure size 640x480 with 1 Axes>"
      ]
     },
     "metadata": {},
     "output_type": "display_data"
    }
   ],
   "source": [
    "data['CurrentAge(Years)'].plot(kind = 'hist')"
   ]
  },
  {
   "cell_type": "code",
   "execution_count": 61,
   "metadata": {},
   "outputs": [
    {
     "data": {
      "image/png": "[encoded data removed]",
      "text/plain": [
       "<Figure size 640x480 with 1 Axes>"
      ]
     },
     "metadata": {},
     "output_type": "display_data"
    }
   ],
   "source": [
    "data.groupby(['Age Group', 'Current ART Status']).size().unstack().plot(kind = 'bar')\n",
    "plt.xticks(rotation = 0)\n",
    "plt.show()"
   ]
  },
  {
   "cell_type": "markdown",
   "metadata": {},
   "source": [
    "# Model Development "
   ]
  },
  {
   "cell_type": "code",
   "execution_count": null,
   "metadata": {},
   "outputs": [],
   "source": [
    "# Selecting best features correlation to target variable \"Current ART Status\"\n",
    "data1 = data.copy() # make a copy of the dataset\n",
    "x = data1\n",
    "y = data1.pop('Current ART Status')"
   ]
  },
  {
   "cell_type": "code",
   "execution_count": 32,
   "metadata": {},
   "outputs": [],
   "source": [
    "# Encoding Categorical variables\n",
    "for col in x.select_dtypes('O'):\n",
    "    x[col],_ = x[col].factorize()"
   ]
  },
  {
   "cell_type": "code",
   "execution_count": 40,
   "metadata": {},
   "outputs": [],
   "source": [
    "# Encoding y variable\n",
    "y,_ = y.factorize()"
   ]
  },
  {
   "cell_type": "markdown",
   "metadata": {},
   "source": [
    "Note: This is not the encoding for building the random forest classifier model"
   ]
  },
  {
   "cell_type": "code",
   "execution_count": null,
   "metadata": {},
   "outputs": [],
   "source": [
    "data1.isnull().sum()\n",
    "data1['Age Group'].fillna(data1['Age Group'].mode(), inplace = True)\n",
    "\n",
    "data1['Age Group'] = data1['Age Group'].astype('O')"
   ]
  },
  {
   "cell_type": "code",
   "execution_count": 62,
   "metadata": {},
   "outputs": [
    {
     "data": {
      "text/plain": [
       "<Axes: >"
      ]
     },
     "execution_count": 62,
     "metadata": {},
     "output_type": "execute_result"
    },
    {
     "data": {
      "image/png": "[encoded data removed]",
      "text/plain": [
       "<Figure size 640x480 with 1 Axes>"
      ]
     },
     "metadata": {},
     "output_type": "display_data"
    }
   ],
   "source": [
    "# Building Mutual Regression Model\n",
    "x = x.select_dtypes('int64')\n",
    "mi_scores = mutual_info_regression(x,y, random_state = 0)\n",
    "mi_scores = pd.Series(mi_scores, index = x.columns)\n",
    "best_features = mi_scores.sort_values(ascending = False).head(14)\n",
    "\n",
    "# Show features relationship to target variable\n",
    "best_features.sort_values(ascending = True).plot(kind = 'barh')"
   ]
  },
  {
   "cell_type": "markdown",
   "metadata": {},
   "source": [
    "So, above is a visual showing the correlation between different features and the target feature"
   ]
  },
  {
   "cell_type": "markdown",
   "metadata": {},
   "source": [
    "# Feature Encoding "
   ]
  },
  {
   "cell_type": "code",
   "execution_count": 72,
   "metadata": {},
   "outputs": [],
   "source": [
    "data.select_dtypes('object').columns\n",
    "Encode_cols = ['Sex', 'Regimen Line at ART Start',\n",
    "       'Regimen at ART Start', 'Current Regimen Line', 'Current ART Regimen',\n",
    "       'Current ART Status', 'Age Group']"
   ]
  },
  {
   "cell_type": "code",
   "execution_count": 73,
   "metadata": {},
   "outputs": [
    {
     "name": "stdout",
     "output_type": "stream",
     "text": [
      "Sex\n",
      "M    4316\n",
      "F     477\n",
      "Name: count, dtype: int64 \n",
      "\n",
      "Regimen Line at ART Start\n",
      "Adult 1st line ARV regimen    4787\n",
      "Child 1st line ARV regimen       6\n",
      "Name: count, dtype: int64 \n",
      "\n",
      "Regimen at ART Start\n",
      "TDF-3TC-DTG    4751\n",
      "TDF-3TC-EFV      32\n",
      "TDF-FTC-DTG       9\n",
      "ABC-3TC-NVP       1\n",
      "Name: count, dtype: int64 \n",
      "\n",
      "Current Regimen Line\n",
      "Adult 1st line ARV regimen    4784\n",
      "Child 1st line ARV regimen       7\n",
      "Adult 2nd line ARV regimen       1\n",
      "Child 2nd line ARV regimen       1\n",
      "Name: count, dtype: int64 \n",
      "\n",
      "Current ART Regimen\n",
      "TDF-3TC-DTG    4755\n",
      "TDF-3TC-EFV      33\n",
      "TDF-FTC-DTG       4\n",
      "ABC-3TC-NVP       1\n",
      "Name: count, dtype: int64 \n",
      "\n",
      "Current ART Status\n",
      "Active             4781\n",
      "LTFU                  9\n",
      "Transferred out       3\n",
      "Name: count, dtype: int64 \n",
      "\n",
      "Age Group\n",
      "Adult    4792\n",
      "Child       1\n",
      "Name: count, dtype: int64 \n",
      "\n"
     ]
    }
   ],
   "source": [
    "# Show Cardinality of the categorical variable to determine the type of encoding \n",
    "for col in Encode_cols:\n",
    "    print(data[col].value_counts(), '\\n')"
   ]
  },
  {
   "cell_type": "code",
   "execution_count": 54,
   "metadata": {},
   "outputs": [
    {
     "data": {
      "text/plain": [
       "Index(['ID', 'Patient Hospital No', 'Sex', 'Age at Start of ART(Years)',\n",
       "       'ART Start Date', 'Last Pickup Date', 'DaysOfARVRefil',\n",
       "       'Regimen Line at ART Start', 'Regimen at ART Start',\n",
       "       'Current Regimen Line', 'Current ART Regimen', 'CurrentAge(Years)',\n",
       "       'DateOfBirth', 'Current ART Status', 'Age Group'],\n",
       "      dtype='object')"
      ]
     },
     "execution_count": 54,
     "metadata": {},
     "output_type": "execute_result"
    }
   ],
   "source": [
    "data.columns"
   ]
  },
  {
   "cell_type": "code",
   "execution_count": 71,
   "metadata": {},
   "outputs": [
    {
     "data": {
      "text/html": [
       "<div>\n",
       "<style scoped>\n",
       "    .dataframe tbody tr th:only-of-type {\n",
       "        vertical-align: middle;\n",
       "    }\n",
       "\n",
       "    .dataframe tbody tr th {\n",
       "        vertical-align: top;\n",
       "    }\n",
       "\n",
       "    .dataframe thead th {\n",
       "        text-align: right;\n",
       "    }\n",
       "</style>\n",
       "<table border=\"1\" class=\"dataframe\">\n",
       "  <thead>\n",
       "    <tr style=\"text-align: right;\">\n",
       "      <th></th>\n",
       "      <th>ID</th>\n",
       "      <th>Patient Hospital No</th>\n",
       "      <th>Sex</th>\n",
       "      <th>Age at Start of ART(Years)</th>\n",
       "      <th>ART Start Date</th>\n",
       "      <th>Last Pickup Date</th>\n",
       "      <th>DaysOfARVRefil</th>\n",
       "      <th>Regimen Line at ART Start</th>\n",
       "      <th>Regimen at ART Start</th>\n",
       "      <th>Current Regimen Line</th>\n",
       "      <th>Current ART Regimen</th>\n",
       "      <th>CurrentAge(Years)</th>\n",
       "      <th>DateOfBirth</th>\n",
       "      <th>Current ART Status</th>\n",
       "      <th>Age Group</th>\n",
       "    </tr>\n",
       "  </thead>\n",
       "  <tbody>\n",
       "    <tr>\n",
       "      <th>526</th>\n",
       "      <td>Anon/WW//0037</td>\n",
       "      <td>77/06/20M/RYPCAF</td>\n",
       "      <td>M</td>\n",
       "      <td>8</td>\n",
       "      <td>2020-06-08</td>\n",
       "      <td>2020-06-22</td>\n",
       "      <td>90</td>\n",
       "      <td>Child 1st line ARV regimen</td>\n",
       "      <td>ABC-3TC-NVP</td>\n",
       "      <td>Child 2nd line ARV regimen</td>\n",
       "      <td>ABC-3TC-NVP</td>\n",
       "      <td>9</td>\n",
       "      <td>2012-01-01</td>\n",
       "      <td>Transferred out</td>\n",
       "      <td>Child</td>\n",
       "    </tr>\n",
       "    <tr>\n",
       "      <th>686</th>\n",
       "      <td>Anon/WW//0087</td>\n",
       "      <td>390/06/20M/RYPCAF</td>\n",
       "      <td>M</td>\n",
       "      <td>15</td>\n",
       "      <td>2020-06-25</td>\n",
       "      <td>2021-03-12</td>\n",
       "      <td>168</td>\n",
       "      <td>Adult 1st line ARV regimen</td>\n",
       "      <td>TDF-3TC-DTG</td>\n",
       "      <td>Adult 1st line ARV regimen</td>\n",
       "      <td>TDF-3TC-DTG</td>\n",
       "      <td>16</td>\n",
       "      <td>2005-01-01</td>\n",
       "      <td>Active</td>\n",
       "      <td>Adult</td>\n",
       "    </tr>\n",
       "    <tr>\n",
       "      <th>892</th>\n",
       "      <td>Anon/WW//0075</td>\n",
       "      <td>238/7/20M/RYPCAF</td>\n",
       "      <td>M</td>\n",
       "      <td>15</td>\n",
       "      <td>2020-07-16</td>\n",
       "      <td>2020-10-13</td>\n",
       "      <td>180</td>\n",
       "      <td>Adult 1st line ARV regimen</td>\n",
       "      <td>TDF-3TC-DTG</td>\n",
       "      <td>Adult 1st line ARV regimen</td>\n",
       "      <td>TDF-3TC-DTG</td>\n",
       "      <td>16</td>\n",
       "      <td>2005-01-01</td>\n",
       "      <td>Active</td>\n",
       "      <td>Adult</td>\n",
       "    </tr>\n",
       "    <tr>\n",
       "      <th>1717</th>\n",
       "      <td>Anon/WW//0052</td>\n",
       "      <td>343/09/20M/RYPCAF</td>\n",
       "      <td>M</td>\n",
       "      <td>16</td>\n",
       "      <td>2020-09-15</td>\n",
       "      <td>2021-03-05</td>\n",
       "      <td>90</td>\n",
       "      <td>Adult 1st line ARV regimen</td>\n",
       "      <td>TDF-3TC-DTG</td>\n",
       "      <td>Adult 1st line ARV regimen</td>\n",
       "      <td>TDF-3TC-DTG</td>\n",
       "      <td>16</td>\n",
       "      <td>2004-08-10</td>\n",
       "      <td>Active</td>\n",
       "      <td>Adult</td>\n",
       "    </tr>\n",
       "    <tr>\n",
       "      <th>2479</th>\n",
       "      <td>Anon/WW//0008</td>\n",
       "      <td>186/10/20M/RYPCAF</td>\n",
       "      <td>M</td>\n",
       "      <td>16</td>\n",
       "      <td>2020-10-19</td>\n",
       "      <td>2020-10-19</td>\n",
       "      <td>180</td>\n",
       "      <td>Adult 1st line ARV regimen</td>\n",
       "      <td>TDF-3TC-DTG</td>\n",
       "      <td>Adult 1st line ARV regimen</td>\n",
       "      <td>TDF-3TC-DTG</td>\n",
       "      <td>16</td>\n",
       "      <td>2004-05-06</td>\n",
       "      <td>Active</td>\n",
       "      <td>Adult</td>\n",
       "    </tr>\n",
       "    <tr>\n",
       "      <th>2635</th>\n",
       "      <td>Anon/WW//0082</td>\n",
       "      <td>275/10/20M/RYPCAF</td>\n",
       "      <td>M</td>\n",
       "      <td>16</td>\n",
       "      <td>2020-10-26</td>\n",
       "      <td>2020-10-26</td>\n",
       "      <td>180</td>\n",
       "      <td>Adult 1st line ARV regimen</td>\n",
       "      <td>TDF-3TC-DTG</td>\n",
       "      <td>Adult 1st line ARV regimen</td>\n",
       "      <td>TDF-3TC-DTG</td>\n",
       "      <td>16</td>\n",
       "      <td>2004-06-06</td>\n",
       "      <td>Active</td>\n",
       "      <td>Adult</td>\n",
       "    </tr>\n",
       "    <tr>\n",
       "      <th>2683</th>\n",
       "      <td>Anon/WW//0052</td>\n",
       "      <td>142/10/20IT/RYFCAP</td>\n",
       "      <td>M</td>\n",
       "      <td>16</td>\n",
       "      <td>2020-10-28</td>\n",
       "      <td>2020-10-28</td>\n",
       "      <td>180</td>\n",
       "      <td>Adult 1st line ARV regimen</td>\n",
       "      <td>TDF-3TC-DTG</td>\n",
       "      <td>Adult 1st line ARV regimen</td>\n",
       "      <td>TDF-3TC-DTG</td>\n",
       "      <td>16</td>\n",
       "      <td>2004-05-08</td>\n",
       "      <td>Active</td>\n",
       "      <td>Adult</td>\n",
       "    </tr>\n",
       "    <tr>\n",
       "      <th>2872</th>\n",
       "      <td>Anon/WW//0021</td>\n",
       "      <td>124/11/20M/RYPCAF</td>\n",
       "      <td>M</td>\n",
       "      <td>16</td>\n",
       "      <td>2020-11-11</td>\n",
       "      <td>2021-02-05</td>\n",
       "      <td>90</td>\n",
       "      <td>Adult 1st line ARV regimen</td>\n",
       "      <td>TDF-3TC-DTG</td>\n",
       "      <td>Adult 1st line ARV regimen</td>\n",
       "      <td>TDF-3TC-DTG</td>\n",
       "      <td>16</td>\n",
       "      <td>2004-06-03</td>\n",
       "      <td>Active</td>\n",
       "      <td>Adult</td>\n",
       "    </tr>\n",
       "    <tr>\n",
       "      <th>3080</th>\n",
       "      <td>Anon/WW//0061</td>\n",
       "      <td>165/11/20IT/RYPCAF</td>\n",
       "      <td>M</td>\n",
       "      <td>16</td>\n",
       "      <td>2020-11-24</td>\n",
       "      <td>2021-02-18</td>\n",
       "      <td>90</td>\n",
       "      <td>Adult 1st line ARV regimen</td>\n",
       "      <td>TDF-3TC-EFV</td>\n",
       "      <td>Adult 1st line ARV regimen</td>\n",
       "      <td>TDF-3TC-DTG</td>\n",
       "      <td>16</td>\n",
       "      <td>2004-06-06</td>\n",
       "      <td>Active</td>\n",
       "      <td>Adult</td>\n",
       "    </tr>\n",
       "  </tbody>\n",
       "</table>\n",
       "</div>"
      ],
      "text/plain": [
       "                 ID Patient Hospital No Sex  Age at Start of ART(Years)  \\\n",
       "526   Anon/WW//0037    77/06/20M/RYPCAF   M                           8   \n",
       "686   Anon/WW//0087   390/06/20M/RYPCAF   M                          15   \n",
       "892   Anon/WW//0075    238/7/20M/RYPCAF   M                          15   \n",
       "1717  Anon/WW//0052   343/09/20M/RYPCAF   M                          16   \n",
       "2479  Anon/WW//0008   186/10/20M/RYPCAF   M                          16   \n",
       "2635  Anon/WW//0082   275/10/20M/RYPCAF   M                          16   \n",
       "2683  Anon/WW//0052  142/10/20IT/RYFCAP   M                          16   \n",
       "2872  Anon/WW//0021   124/11/20M/RYPCAF   M                          16   \n",
       "3080  Anon/WW//0061  165/11/20IT/RYPCAF   M                          16   \n",
       "\n",
       "     ART Start Date Last Pickup Date  DaysOfARVRefil  \\\n",
       "526      2020-06-08       2020-06-22              90   \n",
       "686      2020-06-25       2021-03-12             168   \n",
       "892      2020-07-16       2020-10-13             180   \n",
       "1717     2020-09-15       2021-03-05              90   \n",
       "2479     2020-10-19       2020-10-19             180   \n",
       "2635     2020-10-26       2020-10-26             180   \n",
       "2683     2020-10-28       2020-10-28             180   \n",
       "2872     2020-11-11       2021-02-05              90   \n",
       "3080     2020-11-24       2021-02-18              90   \n",
       "\n",
       "       Regimen Line at ART Start Regimen at ART Start  \\\n",
       "526   Child 1st line ARV regimen          ABC-3TC-NVP   \n",
       "686   Adult 1st line ARV regimen          TDF-3TC-DTG   \n",
       "892   Adult 1st line ARV regimen          TDF-3TC-DTG   \n",
       "1717  Adult 1st line ARV regimen          TDF-3TC-DTG   \n",
       "2479  Adult 1st line ARV regimen          TDF-3TC-DTG   \n",
       "2635  Adult 1st line ARV regimen          TDF-3TC-DTG   \n",
       "2683  Adult 1st line ARV regimen          TDF-3TC-DTG   \n",
       "2872  Adult 1st line ARV regimen          TDF-3TC-DTG   \n",
       "3080  Adult 1st line ARV regimen          TDF-3TC-EFV   \n",
       "\n",
       "            Current Regimen Line Current ART Regimen  CurrentAge(Years)  \\\n",
       "526   Child 2nd line ARV regimen         ABC-3TC-NVP                  9   \n",
       "686   Adult 1st line ARV regimen         TDF-3TC-DTG                 16   \n",
       "892   Adult 1st line ARV regimen         TDF-3TC-DTG                 16   \n",
       "1717  Adult 1st line ARV regimen         TDF-3TC-DTG                 16   \n",
       "2479  Adult 1st line ARV regimen         TDF-3TC-DTG                 16   \n",
       "2635  Adult 1st line ARV regimen         TDF-3TC-DTG                 16   \n",
       "2683  Adult 1st line ARV regimen         TDF-3TC-DTG                 16   \n",
       "2872  Adult 1st line ARV regimen         TDF-3TC-DTG                 16   \n",
       "3080  Adult 1st line ARV regimen         TDF-3TC-DTG                 16   \n",
       "\n",
       "     DateOfBirth Current ART Status Age Group  \n",
       "526   2012-01-01    Transferred out     Child  \n",
       "686   2005-01-01             Active     Adult  \n",
       "892   2005-01-01             Active     Adult  \n",
       "1717  2004-08-10             Active     Adult  \n",
       "2479  2004-05-06             Active     Adult  \n",
       "2635  2004-06-06             Active     Adult  \n",
       "2683  2004-05-08             Active     Adult  \n",
       "2872  2004-06-03             Active     Adult  \n",
       "3080  2004-06-06             Active     Adult  "
      ]
     },
     "execution_count": 71,
     "metadata": {},
     "output_type": "execute_result"
    }
   ],
   "source": [
    "#data[['Regimen Line at ART Start', 'Current Regimen Line', 'CurrentAge(Years)']]\n",
    "data[data['CurrentAge(Years)']<= 16]"
   ]
  },
  {
   "cell_type": "code",
   "execution_count": 70,
   "metadata": {},
   "outputs": [],
   "source": [
    "data['Age Group'].fillna('Child', inplace = True)"
   ]
  },
  {
   "cell_type": "code",
   "execution_count": 77,
   "metadata": {},
   "outputs": [],
   "source": [
    "# Encoding 2 cardinality variables\n",
    "model_df = data.copy() #copy dataset for encoding and modeling \n",
    "cardi_2 = ['Sex','Regimen at ART Start','Age Group']\n",
    "\n",
    "# label encoding \n",
    "le = LabelEncoder() # initialize label encoder\n",
    "for col in cardi_2:\n",
    "     model_df[col] = le.fit_transform(model_df[col])"
   ]
  },
  {
   "cell_type": "code",
   "execution_count": 81,
   "metadata": {},
   "outputs": [],
   "source": [
    "# One Hot Encoding\n",
    "model_df = pd.get_dummies(model_df, columns=['Regimen at ART Start', 'Current Regimen Line'])"
   ]
  },
  {
   "cell_type": "code",
   "execution_count": 83,
   "metadata": {},
   "outputs": [],
   "source": [
    "# replace True with 1 and False with 0\n",
    "columns = ['Regimen at ART Start_0', 'Regimen at ART Start_1',\n",
    "       'Regimen at ART Start_2', 'Regimen at ART Start_3',\n",
    "       'Current Regimen Line_Adult 1st line ARV regimen',\n",
    "       'Current Regimen Line_Adult 2nd line ARV regimen',\n",
    "       'Current Regimen Line_Child 1st line ARV regimen',\n",
    "       'Current Regimen Line_Child 2nd line ARV regimen']\n",
    "string_to_replace = {\n",
    "    True: 1,\n",
    "    False: 0\n",
    "}\n",
    "for col in columns:\n",
    "    model_df[col].replace(string_to_replace, inplace = True)"
   ]
  },
  {
   "cell_type": "code",
   "execution_count": 100,
   "metadata": {},
   "outputs": [],
   "source": [
    "model_df = model_df.select_dtypes(['float', 'int'])"
   ]
  },
  {
   "cell_type": "markdown",
   "metadata": {},
   "source": [
    "# Model Developement"
   ]
  },
  {
   "cell_type": "code",
   "execution_count": 101,
   "metadata": {},
   "outputs": [],
   "source": [
    "# Splitting into independent (X) variable and dependent (y) variable\n",
    "X = model_df\n",
    "y = model_df.pop('Current ART Status')"
   ]
  },
  {
   "cell_type": "code",
   "execution_count": 104,
   "metadata": {},
   "outputs": [],
   "source": [
    "# Splitting to train and test data in 80:20 ratio\n",
    "x_train, x_test, y_train, y_test = train_test_split(X, y, test_size = 0.2, random_state = 42)\n"
   ]
  },
  {
   "cell_type": "code",
   "execution_count": 105,
   "metadata": {},
   "outputs": [
    {
     "name": "stdout",
     "output_type": "stream",
     "text": [
      "[LightGBM] [Warning] Found whitespace in feature_names, replace with underlines\n",
      "[LightGBM] [Info] Auto-choosing row-wise multi-threading, the overhead of testing was 0.002169 seconds.\n",
      "You can set `force_row_wise=true` to remove the overhead.\n",
      "And if memory is not enough, you can set `force_col_wise=true`.\n",
      "[LightGBM] [Info] Total Bins 79\n",
      "[LightGBM] [Info] Number of data points in the train set: 3834, number of used features: 6\n",
      "[LightGBM] [Info] Start training from score -0.002612\n",
      "[LightGBM] [Info] Start training from score -6.305754\n",
      "[LightGBM] [Info] Start training from score -7.153052\n",
      "[LightGBM] [Warning] No further splits with positive gain, best gain: -inf\n",
      "[LightGBM] [Warning] No further splits with positive gain, best gain: -inf\n",
      "[LightGBM] [Warning] No further splits with positive gain, best gain: -inf\n",
      "[LightGBM] [Warning] No further splits with positive gain, best gain: -inf\n",
      "[LightGBM] [Warning] No further splits with positive gain, best gain: -inf\n",
      "[LightGBM] [Warning] No further splits with positive gain, best gain: -inf\n",
      "[LightGBM] [Warning] No further splits with positive gain, best gain: -inf\n",
      "[LightGBM] [Warning] No further splits with positive gain, best gain: -inf\n",
      "[LightGBM] [Warning] No further splits with positive gain, best gain: -inf\n",
      "[LightGBM] [Warning] No further splits with positive gain, best gain: -inf\n",
      "[LightGBM] [Warning] No further splits with positive gain, best gain: -inf\n",
      "[LightGBM] [Warning] No further splits with positive gain, best gain: -inf\n",
      "[LightGBM] [Warning] No further splits with positive gain, best gain: -inf\n",
      "[LightGBM] [Warning] No further splits with positive gain, best gain: -inf\n",
      "[LightGBM] [Warning] No further splits with positive gain, best gain: -inf\n",
      "[LightGBM] [Warning] No further splits with positive gain, best gain: -inf\n",
      "[LightGBM] [Warning] No further splits with positive gain, best gain: -inf\n",
      "[LightGBM] [Warning] No further splits with positive gain, best gain: -inf\n",
      "[LightGBM] [Warning] No further splits with positive gain, best gain: -inf\n",
      "[LightGBM] [Warning] No further splits with positive gain, best gain: -inf\n",
      "[LightGBM] [Warning] No further splits with positive gain, best gain: -inf\n",
      "[LightGBM] [Warning] No further splits with positive gain, best gain: -inf\n",
      "[LightGBM] [Warning] No further splits with positive gain, best gain: -inf\n",
      "[LightGBM] [Warning] No further splits with positive gain, best gain: -inf\n",
      "[LightGBM] [Warning] No further splits with positive gain, best gain: -inf\n",
      "[LightGBM] [Warning] No further splits with positive gain, best gain: -inf\n",
      "[LightGBM] [Warning] No further splits with positive gain, best gain: -inf\n",
      "[LightGBM] [Warning] No further splits with positive gain, best gain: -inf\n",
      "[LightGBM] [Warning] No further splits with positive gain, best gain: -inf\n",
      "[LightGBM] [Warning] No further splits with positive gain, best gain: -inf\n",
      "[LightGBM] [Warning] No further splits with positive gain, best gain: -inf\n",
      "[LightGBM] [Warning] No further splits with positive gain, best gain: -inf\n",
      "[LightGBM] [Warning] No further splits with positive gain, best gain: -inf\n",
      "[LightGBM] [Warning] No further splits with positive gain, best gain: -inf\n",
      "[LightGBM] [Warning] No further splits with positive gain, best gain: -inf\n",
      "[LightGBM] [Warning] No further splits with positive gain, best gain: -inf\n",
      "[LightGBM] [Warning] No further splits with positive gain, best gain: -inf\n",
      "[LightGBM] [Warning] No further splits with positive gain, best gain: -inf\n",
      "[LightGBM] [Warning] No further splits with positive gain, best gain: -inf\n",
      "[LightGBM] [Warning] No further splits with positive gain, best gain: -inf\n",
      "[LightGBM] [Warning] No further splits with positive gain, best gain: -inf\n",
      "[LightGBM] [Warning] No further splits with positive gain, best gain: -inf\n",
      "[LightGBM] [Warning] No further splits with positive gain, best gain: -inf\n",
      "[LightGBM] [Warning] No further splits with positive gain, best gain: -inf\n",
      "[LightGBM] [Warning] No further splits with positive gain, best gain: -inf\n",
      "[LightGBM] [Warning] No further splits with positive gain, best gain: -inf\n",
      "[LightGBM] [Warning] No further splits with positive gain, best gain: -inf\n",
      "[LightGBM] [Warning] No further splits with positive gain, best gain: -inf\n",
      "[LightGBM] [Warning] No further splits with positive gain, best gain: -inf\n",
      "[LightGBM] [Warning] No further splits with positive gain, best gain: -inf\n",
      "[LightGBM] [Warning] No further splits with positive gain, best gain: -inf\n",
      "[LightGBM] [Warning] No further splits with positive gain, best gain: -inf\n",
      "[LightGBM] [Warning] No further splits with positive gain, best gain: -inf\n",
      "[LightGBM] [Warning] No further splits with positive gain, best gain: -inf\n",
      "[LightGBM] [Warning] No further splits with positive gain, best gain: -inf\n",
      "[LightGBM] [Warning] No further splits with positive gain, best gain: -inf\n",
      "[LightGBM] [Warning] No further splits with positive gain, best gain: -inf\n",
      "[LightGBM] [Warning] No further splits with positive gain, best gain: -inf\n",
      "[LightGBM] [Warning] No further splits with positive gain, best gain: -inf\n",
      "[LightGBM] [Warning] No further splits with positive gain, best gain: -inf\n",
      "[LightGBM] [Warning] No further splits with positive gain, best gain: -inf\n",
      "[LightGBM] [Warning] No further splits with positive gain, best gain: -inf\n",
      "[LightGBM] [Warning] No further splits with positive gain, best gain: -inf\n",
      "[LightGBM] [Warning] No further splits with positive gain, best gain: -inf\n",
      "[LightGBM] [Warning] No further splits with positive gain, best gain: -inf\n",
      "[LightGBM] [Warning] No further splits with positive gain, best gain: -inf\n",
      "[LightGBM] [Warning] No further splits with positive gain, best gain: -inf\n",
      "[LightGBM] [Warning] No further splits with positive gain, best gain: -inf\n",
      "[LightGBM] [Warning] No further splits with positive gain, best gain: -inf\n",
      "[LightGBM] [Warning] No further splits with positive gain, best gain: -inf\n",
      "[LightGBM] [Warning] No further splits with positive gain, best gain: -inf\n",
      "[LightGBM] [Warning] No further splits with positive gain, best gain: -inf\n",
      "[LightGBM] [Warning] No further splits with positive gain, best gain: -inf\n",
      "[LightGBM] [Warning] No further splits with positive gain, best gain: -inf\n",
      "[LightGBM] [Warning] No further splits with positive gain, best gain: -inf\n",
      "[LightGBM] [Warning] No further splits with positive gain, best gain: -inf\n",
      "[LightGBM] [Warning] No further splits with positive gain, best gain: -inf\n",
      "[LightGBM] [Warning] No further splits with positive gain, best gain: -inf\n",
      "[LightGBM] [Warning] No further splits with positive gain, best gain: -inf\n",
      "[LightGBM] [Warning] No further splits with positive gain, best gain: -inf\n",
      "[LightGBM] [Warning] No further splits with positive gain, best gain: -inf\n",
      "[LightGBM] [Warning] No further splits with positive gain, best gain: -inf\n",
      "[LightGBM] [Warning] No further splits with positive gain, best gain: -inf\n",
      "[LightGBM] [Warning] No further splits with positive gain, best gain: -inf\n",
      "[LightGBM] [Warning] No further splits with positive gain, best gain: -inf\n",
      "[LightGBM] [Warning] No further splits with positive gain, best gain: -inf\n",
      "[LightGBM] [Warning] No further splits with positive gain, best gain: -inf\n",
      "[LightGBM] [Warning] No further splits with positive gain, best gain: -inf\n",
      "[LightGBM] [Warning] No further splits with positive gain, best gain: -inf\n",
      "[LightGBM] [Warning] No further splits with positive gain, best gain: -inf\n",
      "[LightGBM] [Warning] No further splits with positive gain, best gain: -inf\n",
      "[LightGBM] [Warning] No further splits with positive gain, best gain: -inf\n",
      "[LightGBM] [Warning] No further splits with positive gain, best gain: -inf\n",
      "[LightGBM] [Warning] No further splits with positive gain, best gain: -inf\n",
      "[LightGBM] [Warning] No further splits with positive gain, best gain: -inf\n",
      "[LightGBM] [Warning] No further splits with positive gain, best gain: -inf\n",
      "[LightGBM] [Warning] No further splits with positive gain, best gain: -inf\n",
      "[LightGBM] [Warning] No further splits with positive gain, best gain: -inf\n",
      "[LightGBM] [Warning] No further splits with positive gain, best gain: -inf\n",
      "[LightGBM] [Warning] No further splits with positive gain, best gain: -inf\n",
      "[LightGBM] [Warning] No further splits with positive gain, best gain: -inf\n",
      "[LightGBM] [Warning] No further splits with positive gain, best gain: -inf\n",
      "[LightGBM] [Warning] No further splits with positive gain, best gain: -inf\n",
      "[LightGBM] [Warning] No further splits with positive gain, best gain: -inf\n",
      "[LightGBM] [Warning] No further splits with positive gain, best gain: -inf\n",
      "[LightGBM] [Warning] No further splits with positive gain, best gain: -inf\n",
      "[LightGBM] [Warning] No further splits with positive gain, best gain: -inf\n",
      "[LightGBM] [Warning] No further splits with positive gain, best gain: -inf\n",
      "[LightGBM] [Warning] No further splits with positive gain, best gain: -inf\n",
      "[LightGBM] [Warning] No further splits with positive gain, best gain: -inf\n",
      "[LightGBM] [Warning] No further splits with positive gain, best gain: -inf\n",
      "[LightGBM] [Warning] No further splits with positive gain, best gain: -inf\n",
      "[LightGBM] [Warning] No further splits with positive gain, best gain: -inf\n",
      "[LightGBM] [Warning] No further splits with positive gain, best gain: -inf\n",
      "[LightGBM] [Warning] No further splits with positive gain, best gain: -inf\n",
      "[LightGBM] [Warning] No further splits with positive gain, best gain: -inf\n",
      "[LightGBM] [Warning] No further splits with positive gain, best gain: -inf\n",
      "[LightGBM] [Warning] No further splits with positive gain, best gain: -inf\n",
      "[LightGBM] [Warning] No further splits with positive gain, best gain: -inf\n",
      "[LightGBM] [Warning] No further splits with positive gain, best gain: -inf\n",
      "[LightGBM] [Warning] No further splits with positive gain, best gain: -inf\n",
      "[LightGBM] [Warning] No further splits with positive gain, best gain: -inf\n",
      "[LightGBM] [Warning] No further splits with positive gain, best gain: -inf\n",
      "[LightGBM] [Warning] No further splits with positive gain, best gain: -inf\n",
      "[LightGBM] [Warning] No further splits with positive gain, best gain: -inf\n",
      "[LightGBM] [Warning] No further splits with positive gain, best gain: -inf\n",
      "[LightGBM] [Warning] No further splits with positive gain, best gain: -inf\n",
      "[LightGBM] [Warning] No further splits with positive gain, best gain: -inf\n",
      "[LightGBM] [Warning] No further splits with positive gain, best gain: -inf\n",
      "[LightGBM] [Warning] No further splits with positive gain, best gain: -inf\n",
      "[LightGBM] [Warning] No further splits with positive gain, best gain: -inf\n",
      "[LightGBM] [Warning] No further splits with positive gain, best gain: -inf\n",
      "[LightGBM] [Warning] No further splits with positive gain, best gain: -inf\n",
      "[LightGBM] [Warning] No further splits with positive gain, best gain: -inf\n",
      "[LightGBM] [Warning] No further splits with positive gain, best gain: -inf\n",
      "[LightGBM] [Warning] No further splits with positive gain, best gain: -inf\n",
      "[LightGBM] [Warning] No further splits with positive gain, best gain: -inf\n",
      "[LightGBM] [Warning] No further splits with positive gain, best gain: -inf\n",
      "[LightGBM] [Warning] No further splits with positive gain, best gain: -inf\n",
      "[LightGBM] [Warning] No further splits with positive gain, best gain: -inf\n",
      "[LightGBM] [Warning] No further splits with positive gain, best gain: -inf\n",
      "[LightGBM] [Warning] No further splits with positive gain, best gain: -inf\n",
      "[LightGBM] [Warning] No further splits with positive gain, best gain: -inf\n",
      "[LightGBM] [Warning] No further splits with positive gain, best gain: -inf\n",
      "[LightGBM] [Warning] No further splits with positive gain, best gain: -inf\n",
      "[LightGBM] [Warning] No further splits with positive gain, best gain: -inf\n",
      "[LightGBM] [Warning] No further splits with positive gain, best gain: -inf\n",
      "[LightGBM] [Warning] No further splits with positive gain, best gain: -inf\n",
      "[LightGBM] [Warning] No further splits with positive gain, best gain: -inf\n",
      "[LightGBM] [Warning] No further splits with positive gain, best gain: -inf\n",
      "[LightGBM] [Warning] No further splits with positive gain, best gain: -inf\n",
      "[LightGBM] [Warning] No further splits with positive gain, best gain: -inf\n",
      "[LightGBM] [Warning] No further splits with positive gain, best gain: -inf\n",
      "[LightGBM] [Warning] No further splits with positive gain, best gain: -inf\n",
      "[LightGBM] [Warning] No further splits with positive gain, best gain: -inf\n",
      "[LightGBM] [Warning] No further splits with positive gain, best gain: -inf\n",
      "[LightGBM] [Warning] No further splits with positive gain, best gain: -inf\n",
      "[LightGBM] [Warning] No further splits with positive gain, best gain: -inf\n",
      "[LightGBM] [Warning] No further splits with positive gain, best gain: -inf\n",
      "[LightGBM] [Warning] No further splits with positive gain, best gain: -inf\n",
      "[LightGBM] [Warning] No further splits with positive gain, best gain: -inf\n",
      "[LightGBM] [Warning] No further splits with positive gain, best gain: -inf\n",
      "[LightGBM] [Warning] No further splits with positive gain, best gain: -inf\n",
      "[LightGBM] [Warning] No further splits with positive gain, best gain: -inf\n",
      "[LightGBM] [Warning] No further splits with positive gain, best gain: -inf\n",
      "[LightGBM] [Warning] No further splits with positive gain, best gain: -inf\n",
      "[LightGBM] [Warning] No further splits with positive gain, best gain: -inf\n",
      "[LightGBM] [Warning] No further splits with positive gain, best gain: -inf\n",
      "[LightGBM] [Warning] No further splits with positive gain, best gain: -inf\n",
      "[LightGBM] [Warning] No further splits with positive gain, best gain: -inf\n",
      "[LightGBM] [Warning] No further splits with positive gain, best gain: -inf\n",
      "[LightGBM] [Warning] No further splits with positive gain, best gain: -inf\n",
      "[LightGBM] [Warning] No further splits with positive gain, best gain: -inf\n",
      "[LightGBM] [Warning] No further splits with positive gain, best gain: -inf\n",
      "[LightGBM] [Warning] No further splits with positive gain, best gain: -inf\n",
      "[LightGBM] [Warning] No further splits with positive gain, best gain: -inf\n",
      "[LightGBM] [Warning] No further splits with positive gain, best gain: -inf\n",
      "[LightGBM] [Warning] No further splits with positive gain, best gain: -inf\n",
      "[LightGBM] [Warning] No further splits with positive gain, best gain: -inf\n",
      "[LightGBM] [Warning] No further splits with positive gain, best gain: -inf\n",
      "[LightGBM] [Warning] No further splits with positive gain, best gain: -inf\n",
      "[LightGBM] [Warning] No further splits with positive gain, best gain: -inf\n",
      "[LightGBM] [Warning] No further splits with positive gain, best gain: -inf\n",
      "[LightGBM] [Warning] No further splits with positive gain, best gain: -inf\n",
      "[LightGBM] [Warning] No further splits with positive gain, best gain: -inf\n",
      "[LightGBM] [Warning] No further splits with positive gain, best gain: -inf\n",
      "[LightGBM] [Warning] No further splits with positive gain, best gain: -inf\n",
      "[LightGBM] [Warning] No further splits with positive gain, best gain: -inf\n",
      "[LightGBM] [Warning] No further splits with positive gain, best gain: -inf\n",
      "[LightGBM] [Warning] No further splits with positive gain, best gain: -inf\n",
      "[LightGBM] [Warning] No further splits with positive gain, best gain: -inf\n",
      "[LightGBM] [Warning] No further splits with positive gain, best gain: -inf\n",
      "[LightGBM] [Warning] No further splits with positive gain, best gain: -inf\n",
      "[LightGBM] [Warning] No further splits with positive gain, best gain: -inf\n",
      "[LightGBM] [Warning] No further splits with positive gain, best gain: -inf\n",
      "[LightGBM] [Warning] No further splits with positive gain, best gain: -inf\n",
      "[LightGBM] [Warning] No further splits with positive gain, best gain: -inf\n",
      "[LightGBM] [Warning] No further splits with positive gain, best gain: -inf\n",
      "[LightGBM] [Warning] No further splits with positive gain, best gain: -inf\n",
      "[LightGBM] [Warning] No further splits with positive gain, best gain: -inf\n",
      "[LightGBM] [Warning] No further splits with positive gain, best gain: -inf\n",
      "[LightGBM] [Warning] No further splits with positive gain, best gain: -inf\n",
      "[LightGBM] [Warning] No further splits with positive gain, best gain: -inf\n",
      "[LightGBM] [Warning] No further splits with positive gain, best gain: -inf\n",
      "[LightGBM] [Warning] No further splits with positive gain, best gain: -inf\n",
      "[LightGBM] [Warning] No further splits with positive gain, best gain: -inf\n",
      "[LightGBM] [Warning] No further splits with positive gain, best gain: -inf\n",
      "[LightGBM] [Warning] No further splits with positive gain, best gain: -inf\n",
      "[LightGBM] [Warning] No further splits with positive gain, best gain: -inf\n",
      "[LightGBM] [Warning] No further splits with positive gain, best gain: -inf\n",
      "[LightGBM] [Warning] No further splits with positive gain, best gain: -inf\n",
      "[LightGBM] [Warning] No further splits with positive gain, best gain: -inf\n",
      "[LightGBM] [Warning] No further splits with positive gain, best gain: -inf\n",
      "[LightGBM] [Warning] No further splits with positive gain, best gain: -inf\n",
      "[LightGBM] [Warning] No further splits with positive gain, best gain: -inf\n",
      "[LightGBM] [Warning] No further splits with positive gain, best gain: -inf\n",
      "[LightGBM] [Warning] No further splits with positive gain, best gain: -inf\n",
      "[LightGBM] [Warning] No further splits with positive gain, best gain: -inf\n"
     ]
    }
   ],
   "source": [
    "# Training a light gb classifier\n",
    "lgb_classifier = lgb.LGBMClassifier()\n",
    "model = lgb_classifier.fit(x_train, y_train)"
   ]
  },
  {
   "cell_type": "code",
   "execution_count": 113,
   "metadata": {},
   "outputs": [
    {
     "name": "stdout",
     "output_type": "stream",
     "text": [
      "0.7957157784743991\n"
     ]
    }
   ],
   "source": [
    "# Model Prediction\n",
    "prediction_prob = model.predict_proba(x_test)[:, 1]\n",
    "print(roc_auc_score(y_test, prediction_prob)) #Testing model's Accuracyon test set which is approx 80% accuracy "
   ]
  },
  {
   "cell_type": "code",
   "execution_count": 114,
   "metadata": {},
   "outputs": [
    {
     "data": {
      "image/png": "[encoded data removed]",
      "text/plain": [
       "<Figure size 1000x600 with 1 Axes>"
      ]
     },
     "metadata": {},
     "output_type": "display_data"
    }
   ],
   "source": [
    "# show variable importance\n",
    "lgb.plot_importance(model , importance_type='gain', figsize=(10, 6), max_num_features=10)\n",
    "plt.show()"
   ]
  },
  {
   "cell_type": "markdown",
   "metadata": {},
   "source": [
    "With about 80% accuracy, model is good to push into production"
   ]
  },
  {
   "cell_type": "code",
   "execution_count": 117,
   "metadata": {},
   "outputs": [],
   "source": [
    "# Save model using pickle \n",
    "with open(\"ART Prediction Model\", \"wb\") as f:\n",
    "    pickle.dump(model, f) \n"
   ]
  },
  {
   "cell_type": "markdown",
   "metadata": {},
   "source": [
    "THANK YOU"
   ]
  }
 ],
 "metadata": {
  "kernelspec": {
   "display_name": "base",
   "language": "python",
   "name": "python3"
  },
  "language_info": {
   "codemirror_mode": {
    "name": "ipython",
    "version": 3
   },
   "file_extension": ".py",
   "mimetype": "text/x-python",
   "name": "python",
   "nbconvert_exporter": "python",
   "pygments_lexer": "ipython3",
   "version": "3.10.9"
  }
 },
 "nbformat": 4,
 "nbformat_minor": 2
}
